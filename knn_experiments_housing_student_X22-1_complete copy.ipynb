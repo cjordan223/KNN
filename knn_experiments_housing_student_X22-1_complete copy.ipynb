{
 "cells": [
  {
   "cell_type": "markdown",
   "metadata": {
    "id": "VDtiG4APx-KV"
   },
   "source": [
    "# KNN regression experiments"
   ]
  },
  {
   "cell_type": "markdown",
   "metadata": {
    "id": "YhLDDrE6x-KZ"
   },
   "source": [
    "In this notebook we'll run a bunch of tests to see how KNN is affect by the choice of k, scaling of the predictors, presence of useless predictors, and other things.\n",
    "\n",
    "One experiment we do not run, and which would be interesting, is to see how KNN performance changes as a function of the size of the training set."
   ]
  },
  {
   "cell_type": "markdown",
   "metadata": {
    "id": "zuBg1S9Wx-Ka"
   },
   "source": [
    "## INSTRUCTIONS\n",
    "\n",
    "Enter code wherever you see # YOUR CODE HERE in code cells, or YOU TEXT HERE in markup cells."
   ]
  },
  {
   "cell_type": "code",
   "execution_count": 5,
   "metadata": {
    "id": "CjuQS3Lcx-Kc",
    "tags": []
   },
   "outputs": [],
   "source": [
    "import numpy as np\n",
    "import pandas as pd\n",
    "from sklearn.model_selection import train_test_split\n",
    "from sklearn.preprocessing import StandardScaler\n",
    "from sklearn.neighbors import KNeighborsRegressor\n",
    "import matplotlib.pyplot as plt"
   ]
  },
  {
   "cell_type": "code",
   "execution_count": 6,
   "metadata": {
    "id": "5ZFJ9hNmx-Ke",
    "tags": []
   },
   "outputs": [],
   "source": [
    "# set default figure size\n",
    "plt.rcParams['figure.figsize'] = [8.0, 6.0]"
   ]
  },
  {
   "cell_type": "code",
   "execution_count": 7,
   "metadata": {
    "colab": {
     "base_uri": "https://localhost:8080/",
     "height": 34
    },
    "id": "-TE9SdyBx-Kf",
    "outputId": "a61f696e-e5ba-412f-d121-8611bc9e3317",
    "tags": []
   },
   "outputs": [
    {
     "data": {
      "text/html": [
       "<script>\n",
       "code_show=true; \n",
       "function code_toggle() {\n",
       " if (code_show){\n",
       " $('div.input').hide();\n",
       " } else {\n",
       " $('div.input').show();\n",
       " }\n",
       " code_show = !code_show\n",
       "} \n",
       "$( document ).ready(code_toggle);\n",
       "</script>\n",
       "<form action=\"javascript:code_toggle()\"><input type=\"submit\" value=\"Click here to display/hide the code.\"></form>"
      ],
      "text/plain": [
       "<IPython.core.display.HTML object>"
      ]
     },
     "execution_count": 7,
     "metadata": {},
     "output_type": "execute_result"
    }
   ],
   "source": [
    "# code in this cell from: \n",
    "# https://stackoverflow.com/questions/27934885/how-to-hide-code-from-cells-in-ipython-notebook-visualized-with-nbviewer\n",
    "from IPython.display import HTML\n",
    "\n",
    "HTML('''<script>\n",
    "code_show=true; \n",
    "function code_toggle() {\n",
    " if (code_show){\n",
    " $('div.input').hide();\n",
    " } else {\n",
    " $('div.input').show();\n",
    " }\n",
    " code_show = !code_show\n",
    "} \n",
    "$( document ).ready(code_toggle);\n",
    "</script>\n",
    "<form action=\"javascript:code_toggle()\"><input type=\"submit\" value=\"Click here to display/hide the code.\"></form>''')"
   ]
  },
  {
   "cell_type": "markdown",
   "metadata": {
    "id": "cZmoetb_x-Kg"
   },
   "source": [
    "### Read the data and take a first look at it"
   ]
  },
  {
   "cell_type": "markdown",
   "metadata": {
    "id": "y4apWYTvx-Ki"
   },
   "source": [
    "The housing dataset is good for testing KNN because it has many numeric features.  See Aurélien Géron's book titled 'Hands-On Machine learning with Scikit-Learn and TensorFlow' for information on the dataset."
   ]
  },
  {
   "cell_type": "code",
   "execution_count": 8,
   "metadata": {
    "id": "ZBDr2L3Dx-Kj",
    "tags": []
   },
   "outputs": [],
   "source": [
    "df = pd.read_csv(\"https://raw.githubusercontent.com/grbruns/cst383/master/housing.csv\")    "
   ]
  },
  {
   "cell_type": "code",
   "execution_count": 9,
   "metadata": {
    "colab": {
     "base_uri": "https://localhost:8080/"
    },
    "id": "1YLJP494x-Kk",
    "outputId": "29e166a5-d059-48a2-99ce-7a051022c5dd",
    "tags": []
   },
   "outputs": [
    {
     "name": "stdout",
     "output_type": "stream",
     "text": [
      "<class 'pandas.core.frame.DataFrame'>\n",
      "RangeIndex: 20640 entries, 0 to 20639\n",
      "Data columns (total 10 columns):\n",
      " #   Column              Non-Null Count  Dtype  \n",
      "---  ------              --------------  -----  \n",
      " 0   longitude           20640 non-null  float64\n",
      " 1   latitude            20640 non-null  float64\n",
      " 2   housing_median_age  20640 non-null  float64\n",
      " 3   total_rooms         20640 non-null  float64\n",
      " 4   total_bedrooms      20433 non-null  float64\n",
      " 5   population          20640 non-null  float64\n",
      " 6   households          20640 non-null  float64\n",
      " 7   median_income       20640 non-null  float64\n",
      " 8   median_house_value  20640 non-null  float64\n",
      " 9   ocean_proximity     20640 non-null  object \n",
      "dtypes: float64(9), object(1)\n",
      "memory usage: 1.6+ MB\n"
     ]
    }
   ],
   "source": [
    "df.info()"
   ]
  },
  {
   "cell_type": "markdown",
   "metadata": {
    "id": "rN78_yyRx-Km"
   },
   "source": [
    "Note that numeric features have different ranges.  For example, the mean value of *'total_rooms'* is over 2,500, while the mean value of *'median_income'* is about 4. *'median_house_value'* has a much greater mean value, over $200,000, but we will be using it as the target variable."
   ]
  },
  {
   "cell_type": "code",
   "execution_count": 10,
   "metadata": {
    "tags": []
   },
   "outputs": [
    {
     "data": {
      "text/html": [
       "<img src=\"data:image/jpeg;base64,/9j/4AAQSkZJRgABAQAAAQABAAD/2wCEAAoHCBIVFRgVFRYYGBgYGBgZGBgYGBgaGBoaGBgZGRgYGBgcIS4lHB4rHxgYJjgmKy8xNTU1GiQ7QDs0Py40NTEBDAwMEA8QHhISHzQhJCs0NDQ0NDQ0NDQ0NDQ0NDQ0NDQ0NDQ0NDQ0NDQ0NDQ0NDQ0NDQ0NDQ0NDQ0NDQ0NDQ0NP/AABEIAMIBAwMBIgACEQEDEQH/xAAcAAABBQEBAQAAAAAAAAAAAAAFAAECBAYDBwj/xAA4EAACAQIEAwYEBQQDAQEBAAABAgADEQQSITEFQVEGImFxgZETMkKhUrHB0fBicuHxFBWCsnMj/8QAGQEAAwEBAQAAAAAAAAAAAAAAAAECAwQF/8QAJREAAwEAAgICAQQDAAAAAAAAAAECEQMhEjFBURMiMmFxBEKB/9oADAMBAAIRAxEAPwAwIz10X5mVfMgTG1MZXfd28gbflKbhr969/Gc/5d9HG/8ALX+qNpU41h1+vMf6QT99pCn2gQkBUNupIB9hMcstUqlpFclfBjf+TyfHR6ZhijqGXUGWVEyHAOJ5DlY90/Y9Zr1M7OK1U6jq4eZck78/JMSayAjqZoanUSYM5AyYgBISQMhHBiAmJKQvFeAE7yQM5iR+Ol7XF4niDTvFeRvFeBRK8UjJQAcRxGEeADxRhHgAorR7RQAaKKNAkRkTHJjQAeNFHjAUUe0UAPCOH4uzAiXMaLtm6iZ7A1dRDj1cwHhPO8cZ5dS5ohaTVpC0kogSy1Qq2M2nZ/iWYBGOo+U/pMKgl/CVipve1ootxWomLfHWr/p6WI4lHhWL+IgbmND5y8J6SpNaj15pUk0TEkDOd5JYxk7xxKWO4jSormqOF6D6j5DcwVU7QFxemAAdmOp9hoJnXJKefJFXM+2aJ3VRdiAPEyhW4sg0TvHry95n3qs5u7FvP9pQ4txX4CZgLnYCRXIzN82+g5ieLnXM1gtswXlfa8hhcWr3KG9t9DPMm4w7uzndjc2mn7LYpmfLmOU3JF9DbqJzflp1jXRzvlvySa6PQsFjL6GEBM8i84RwOLOzTpms9nXNZ0wlHEYSU1NhRRRQAQkpEsBOT4pBzgLUd4oNfi9MTjjuOU0F7gRNpC85CzMBICoIKwtY1O9fSNxXiVOgl2MXks0irSC4a8jAPA+MrXuV5G0PiE0qWoc0qGkrxRrSjQleKNFGSeB0cMq8paUSjUxyjnKtTiJO08/Ko8/wqgznA5yD4pFgF8U55+0gCY/xv5KXB9sP08XmNhN3wDglBqau4Lsb3udPaeb4A2ImtTtNVwyoi00dSCTdyrA32GhEONzN4xcUz+bxa3o39CkiCyKFHQC07CYrCdv8ObCrTqUj1sHT3XX7TV8Px9Ksuek6uOqm9vMbj1nbNS/R6Hjh2xOKp01LOwVRzJmL4325tdcOLf1tv/5X95o+PcDXFKoZ2Qre1rHfqDPOe1PZqphQrlw6sSBYEEG19RMuXz+OkZW6+PQJxnEajsWdixO5JuZf4PxgobHVTuJnmMZHImHgvgwriTR6nQxCuoZTcfzQylxTBmotrTJcJ4s1NhrpzHIzdYDEpVUMh8xzEqa3qvZl3uMyydl2Y6aTR8B4G1Bs5cNpsB18YZoUGO0fEYunTFic7jkD3R5mNqV2y8XtlxATrsBuTIU8VmbLSXOw3b6B6zJ8S4vUqd0HToNF/wAzQ9ksdTpoVdgGY315xTaqkvSLluqU+jTYGjUUd98xPTYeAnWviEQXYgTk3EKY+qYftyzVEzI5AG6g7+c6dSXR1NeM9B7iXbLC0rjOGPQan7QTgu24rMVUZel+c8qqOY+GxBRgwOombqjCqprpnsh4g7bmZnjHataNQKO9bcSPD+K/ES4PetrM3xLhLVHJ1uZTeroy8t6bw0vCuN/GqW1sdhC3EcD8VCp3tpAPZngxpHOzctpocRxCmu7CCXXZKSSesA8E4zUwz/Bqk5b2Vjy8D4TQ8ZwX/KUAHSY/tNj6VRbi2Yc5b7LcfemmV9R9J/SZNqXnwVD1Z8G27P8ACkwqWv4+JhelXZm0Gkx1Di71ag/CJsMBiFIAE0ipfSOiJLwEe0eNeamw9oorxQA+YrxRpITAyEJ1Sc1nRZLJZfwzaiHMRlyIz6oL5lBsW07oHrM/hzrDuIXNQ8mB/T9Zy31SOVdc8sG4ioCSVFgTovIeHj5yFB6lNhUosUca902uP5yjgW2t6i8kOV73uOfLoJqnh6p6F2Y7Wf8AIQrUstRRe+gDAbm3Ijn7wH264xTqqERi2Vrlvp2IsDz/ACgLg1EtVYLexVyfIISfyEp4zEXRr6nr0l1dVi+CaleLBLmc8xkWeQzTRIwSLKViJpOz+NZWBQm45Ha0yimaPsyt3P8AbMeWVmmPLCZtcTxh3FvlH4V0HqYOa7b+3KdDT8JNKZtMHTYpnP5HpURJ8UwwyLZbnr0joh850xNRhZfC0lN+RtxR+rQGr1Nlcm3IkzjiMUzIVO8M8Q4cqZSneLC7DpBWJo5VOhzDUTZPs6mtWGQqkgmc80MceweVEqgaNofOAs06perTnc50GOFYtka4OnOab/tVUXA1mQwHMy6XiXRzVx7QWxPGKjc7eUqrUJzE8hKBqiFeEU84bTTaDpJaxPh+EZepVLORfnNRwugWACzjjuzLqRUX5TrCvCFyWPSZW99HWuM1vB+D5EzMe8YRU5e8Os4YHFhlAJELI1FQDufH9opxLo2SwKIpyjykTOS4rMNJMNOydwhk7xpG8Uok+aI4kc0kAx2HvObCMbJCPnH+BvH+F1N/LadUQcrCIPH7J0VbyHjv7QrRa6FSSYNS4lqibkbj2t6zG50XgtTRBn3A9NvbWdnGXTQ22I5k/tOuGoOxyImdnIsALtpsB0E9A4D2Vp4UCvjMrVTqlHdVPJm/bbzlJb2/R1JkOzfZ1sPh3rVBarWXKq80ptvcci21uk8t4m2VnT8LMvsxE9v4hxD4i777k/zSeFcWqBqtQjm7/wD0Yoflb+h0sQOzRw0ZgJzM6jLCwhmp7Jauf7T+kyKMZqOyVTvkWYnKdAJhzL9JjySzYuLC/STweWoua9htfmfKcKdAu2Vz1OQHTT8R5+UII4AsAAByHKcmfZUT9lklESyC9+dtZVWrTs+c2OXukjW/hOL4o6WA56HT2POV+IC+S48Trrryv4Rp9myKJr1GBKnRbX8+UZ0rO1mGZjYAD/Evpw7MBpkA3dzYnyXcwlhq9Ogp+GMzkWNRt/HKOQmiRa7Mz2+prRw1CiNXuXfoD0vz3+0wIebvtypqtSVWvlTXXmZlP+nqTomkpIqdZHDPYTuMxnahw1l3EI4fAseUHSIXGLhnBS+rGwms4Zw8IuRBcnpKWARF0ZtBNFh+N0qa2ppcnS9rfczKm6NFGEO0FMYfDBWIzfqdbTFDFCXu0fEWqv3jtsOQg6nRUyszotHfDVqjNZWI9TNTwHDnOC7Fj4k6e8AYDBuzWT3m54JworqxueZjmG2KngcpgWFpIRwtoiJ1IyHvFIRRknzgiTqmkdEnRQJztjwgoN9J3p0mJ6eJkkXoJfwmCznvN6D8pDoanSt8JdgSWvyGk0PCezNV8jPakjbO+5HUCLC0VSxRACObbwi+KdwA7Ehb5RyW/QTNstcf2HOH4rC4UFcMmdzcGq3UaXXqIPxGLfV2YsxOpJJJlRGOlpYpIW0/P85D7NUkhV6zZHNwAq3vzueQ6k/pPLsUoWo45XuL9Jv+KVcoKDkfQnxmL4/RIu9hfPYga7g7HYjSacPT/siitToKwJ2tv5Sx/wBUp1Bg3D4o9bQzhsXfczWvJehLGNS4UQb3BhvhQakxIQm4sbZf3lalUH89Jep1v56zGm37K8JZcGJIIIRx0JYdNdjJtiX30HmRKxfS/QfpKzVVcDuubEH5eV+snxQeEhFnqbZ7eUgK9ySFY257DTpzkEckXtl30P2vILWvoWBPRBDEV4pF1HY2J3O+pJ9zrL+HwzOCegvOeBpoy31vyFtPUzvj8UKdF+XdI08ZSWiZh61ctUYnqZdwyE9YHwmr38YaR2G0poaLNVWA0EnRoneMKj2uZ3DsRpEBzTDNckwnQpqqk9BKtHD1H0l+pgmC5Y5TbE3hh+Iu7VCR1nTBpUJ2mro8AXcwxguEIvKb+OkOjj2cwrAAsNZt6C2AlHAYUDlCgE1lYjNvSBjGSYSEYCiiijJPnynhmPIyynD2PQS/TEspOJ0zoUoq0OGrfW5hJFVRoIwX+fedSo2JtJbKwdGnRLyBsAbWNvQStheI03A7wLEkBeRy72HMeMnGx6GKNPT9f2lsuALDeUUYnnLDVadMBn3OirzJ/TzkukhZpyqYE6HQu5Kop1uebW6KLn0ECds8AEw4UC7i1R7A90EqiA36gFv/AFNtwjDBQcXiVNyuVE/CN8g5eZ8BMp2rrk4euzZs1Ug3IsCFvfL1tdfAARxvkmFesPPKNOmwsV16g/pO44aPpciVcOw6mEUJ0sdOhnTWr0ZykyC8Orj5XnWnQxnIk+hlqifBx5awnh3qDkSP6tPykOmWpQNoYXGn6rf+ZdTh+J+qqfTKJYL1D8ylv7Xt9tJEUXb6Qg8SS37SNbH4kF4dYXdyfNiftCGAoJe4Qgcr8/SKngrgd5rjx1hDB4MC+p6m5udID9FjA5yO9YG+ltrcpQ7WKfg2XYbw3h7Fe5sSAD+cq9ucMEw1ie+xGnhHJDZhcC+whjOAJm8M4HOXQ9/qlOexphyjXspJIip40BhY3J5CB1S+7S1hkAIy6nlFgabPhilTme1zsBsP3MMilfWCeBcPqMQ9Qn+kdJqUoTXijFpnVFFMPLuHw0sJQlmmlpskRoqa2nQRWiMYETI2kmkYANFJRRkniiMOs7LUA2HvKgeOHN5xYdIQNU26eUiHF77nqZTOIA3P8/3OFbiKLzk4PS1inrM2hCoFNzuSfDpH4UtOnTQ6XIzFuZJ3gZ+LltEG5tfl6nadcJRqPlzEAXIyj5SOWo19o2nmehdaHjxfUrTGZhlvqNATa4vufAQ9wjAIh+NXJd7d1RozC5KlhcqttP8AMocPwNOitrZjly3bZRzyD6T4y65ZaZcISi21BAzE9CxGc3PK5mXitHoVrY3OxdgCFACJ9J/Cp8BuevrAHaXDtVpVnZrhFCA8mqOSSBbkBmNugEL4ZCLZAxdtATuC3JByOtufpBva10REoIfku7m3zu9wbk7hQBY+csR5TRItrCFEWA3Hje8GspDEEbE/nLdJ72BJsNdvznQ0ZoMU1ItdgL6DS+vTSHcNhHsO+trfhN/zmaWupKkMO6b2M0eDxqfW6AW5NreY0jRMu0cH+Ij0Esf8cAGxN/S0rLxfDjQuPTWQPGadzkV38gbScHpH/nEUwygEhgGsPG2UeMK4fQEnRn99tBaCKb1CLIi00vcltTrzl/AoqnMGLPzY+MT/AIDA7wt6dGmrNY22A68iRBvaZGrIzudheWsJh2ew6nbrF2uZUpiimrMQCRBPsTR5WmCflLtDhlRjNjheD2AuOUMYXhqjlOpLSG8MpgOztRrZjaa3hXAKaWNrnqYTw+HAhPD0ZUwiXRLDUgBoJaVYypadQJoSJRJARpKAEY5jXivACJjRNIkxkjxRrxQA+dH4wo0Gs4PxWodry3S4IOZl2jwemN9ZzbJtjAQqVH5y3heGOxBN99z+00VHDU0FyoA6mWadd20RAB+Jtumgkuvoan7K2A4EBq2g3tz/AMQvhsPTQXFh435efrKTOVtndmY7Iul+ew5S1h6drs9tfpPyKPXc7azNss7pULsCbqt7qPqY9SOkvVWtZ3N/wrqSW5ADmegEDU+JB2KYZFZjoXPdRb9W5/4hbBU3Q5i5L6hnIXbbLSW3cH9W+0TQgkcauHTNUBFU2FgGPwgxy2uN3N7FtlvYawFj6bVHy235ztii7rUtqztZQT+Eiwv00Y38TCOQJTdzoR3B41GGgHgouT6RP+Bnk3FUC13A2zaeRksPOvaOgVcPya43HLwlDDv4zpXcoy9MMBlBAyhr7wrg8NSYaovtAVFyTyMN4atUA0Qn1EypGqZeZaaEKiJmPhtLmDqnMV7um5Atr0gwVqhOYUwD1JnRBWYfOq33yjWZlBPGVbWva29yY2AzPmNMA21ZjovkOsGvhUUZnLOfE6S5hajAWFgvQfrDCTQYTHmmpVRmc6E/tO1HBZnFR9ba68zKPCsKt/iOe6Dt1hh8YazBFFkXpHC3r4E2dFpg6yxTpyaU5YSnO1IxHo0pfprYSFJJ1BlCJR1jCIGAErxCREe8AEZEmK8ZjABiZFojI3jJHvGitFGB4bSJ3Z18h+8YYhr2R856BdPeBf8AsG5Ulk1xeJbRQFHgJyeLN/I0IwzsAXcC3IAWHvI1cTST5qzeSt+ggenwrF1PmZreJsIVwfZlBq5iaS+R6zinGNbUKRJJ+dyfe5l3D8JrVwWrudCMqWsh11uQennCuGwNFPlUE9Tr9paZ+n8/l5Df0Mo4f4a3CuqIhyl+6CzDcIDcADqQTCGDQqqrmLWv3jzuSbn3gRcLTIcsioGvmd2ucvMovK+u9reMt0MW1XuUrog0z23FvoH6/wC5NP6GgtglJY06b3YuXd2HdooTfSw7za6DU39BO3HK6FURAQiCyDmSfmdurMdSZzpPTpoKdMZV0LEkFnf8TN76coqWFaoVFvmawv8AfyAGvtF67YjFdq8EwSmSts1yNrkbAnpeZSnvN52tqK7lUN0QhE/tW+vrqfWYrFUcrsvjN+N9YRSLmEIh/CubbzJ0yRCuGxthCp0csPVLsQLXA31ljD0iDe1vAQMmPNvGEKWMOXU62mbkrS81HN850E6jKg6+AgvDsznYteaHA8HqPbMMoHvDxb9A3hDA56j2W4HTl5zX4DBhFtzj4HBIgsBr1l9BN4487ZnVaMiSyiCc52WbEHSODI3izQAneNGiJgBIRryBaIxgTvIsYwMZjAkYtIExzOcYHTNFOV4owPCXYgqqFCWNjZdV9yYcosAAABMwMVTDK2cDKb91AL33ub3ltuO0xtc+QnG5ZumjSCp4ySP4/wA/0Zk24+30ofWRTF4upoug8Bf7xeDDUa98Uii7ED2+/qIKxPHwTlpLnP4tlHrzlDDcBqN3qrE+DG/22hX4VOgFVFzO2ij9SOmsnF/Y+zlguGVKzB65JW9wmy+gO/8ANoedAqMFFrLbQeFv1+0o0MQwcI7AkrcgADQ9Pcyb4gBgdSzCyoupJ0Og8zv57SWM7YJGVVBFlC35lsxJuCP56Q6zfCp6gfEdbeNNLH7tf2ueYgrh1Yp//Sois9mVUu2WnfQ32u1tL/6kmrAI7mwCgGx9NPaS38seAZ8CatZaaDvFre5305AAn0md4zQHxntr3jr5f6noPDEdFq4lxlbKVUX2dwAqjrlS5PmJiMcl2J8Y4oVIq0sHmQNob6EcxaW6HCS3KGey+ALozEaBretrzT4fhwHKdErSG8MnhuAE7w5g+ziC1xD9LDAbCXadG0pShaU8HwxE2UQpTpgR1W07Is0UkNiVZ1RIlWTEeAITopnMyUYHS8YSIaJjACdos0jmjEwActFIXkS0eEnUGRJnPNHJgA7TkxkiZAxgStFFFGB4GnC6N7F9RvtLIwOGUXJJt0P7RPTDDx6/v9o2Fw7fM9hbZRaw8T4ziNi/h8NQsCqjrrr+cnjarIoCEC5IOg08uW1pWq4tACC6qeRuLg+Q8b+8HtWo/U71T0Fwv7dOcMHppExaGwBu1idPAAnbx/OVsQ1qgdiqoqkXJ1PSw9RBuGNdhalTWmp+q12PTvHQfeW6HDEBDOxc9SdBttfz8IniH2ya1zUcmmlt7uwJPO4Vd/00EM4rD4ZQjUw+dSLkvYnqWsfM7kcgBKD4nIFA5sAQOh3sBvzE4VccFBL2WxI1IJ6A+e8ljCRr21Y+OvvLHC0OIfXu0kJIBBBdx9TD8ABvM9RSpiG1By3IK2BBvsSQevLwmpeslJMlNmykLmLAA3tqosdVvM6WjTOnHscGC00vkQEL1Yk3Zz4n8rCZfFUtAOg18zLNSoXcLfz15ecJcK4b8eqqt3Uvd2NtEX59Rv0HiZO40NroP8C4caOHpKwszhqhuNbE2X7AQotKTFQO7MosgsqDoo0A9p3yzthZJhXs5pTnZRHUR7TRIkcCdBIqJMCUgJLHjLFeMCYaOGnMGPEB0jMZG8aMkcGJjI3jEwAkGiMjFeMB7xrxXkRGA4aNmkTEYiiUUjeKMk+b0iGu+sUU5/g0LWHQXGg9poOG0ludBt0EUUxouQpVOg8x+ays+386NFFEMFD5h/8Aof8A4MhiPnP9jfmIoo0I1fDNKQtpp+pg+s56nZOfhFFM/gtEOH7v5P8AlNjwbSlUtppTHprpFFJX70D/AGhnhfyepl1Yop2z6MX7JxCKKaEk48UUYDvHWNFACURiigSSkIoowEY0UUAEYniijAiYwiigAjGWKKADRRRRFH//2Q==\"/>"
      ],
      "text/plain": [
       "<IPython.core.display.Image object>"
      ]
     },
     "execution_count": 10,
     "metadata": {},
     "output_type": "execute_result"
    }
   ],
   "source": [
    "from IPython.display import Image\n",
    "from IPython.core.display import HTML \n",
    "Image(url= \"data:image/jpeg;base64,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\")\n",
    "#Flickr source for \"Houses going down\" : https://www.flickr.com/photos/59937401@N07/5474464467"
   ]
  },
  {
   "cell_type": "code",
   "execution_count": 11,
   "metadata": {
    "colab": {
     "base_uri": "https://localhost:8080/",
     "height": 300
    },
    "id": "fr1mkMZpx-Kn",
    "outputId": "619b7be6-7884-4164-d373-013ec0dbc0b1",
    "tags": []
   },
   "outputs": [
    {
     "data": {
      "text/html": [
       "<div>\n",
       "<style scoped>\n",
       "    .dataframe tbody tr th:only-of-type {\n",
       "        vertical-align: middle;\n",
       "    }\n",
       "\n",
       "    .dataframe tbody tr th {\n",
       "        vertical-align: top;\n",
       "    }\n",
       "\n",
       "    .dataframe thead th {\n",
       "        text-align: right;\n",
       "    }\n",
       "</style>\n",
       "<table border=\"1\" class=\"dataframe\">\n",
       "  <thead>\n",
       "    <tr style=\"text-align: right;\">\n",
       "      <th></th>\n",
       "      <th>longitude</th>\n",
       "      <th>latitude</th>\n",
       "      <th>housing_median_age</th>\n",
       "      <th>total_rooms</th>\n",
       "      <th>total_bedrooms</th>\n",
       "      <th>population</th>\n",
       "      <th>households</th>\n",
       "      <th>median_income</th>\n",
       "      <th>median_house_value</th>\n",
       "    </tr>\n",
       "  </thead>\n",
       "  <tbody>\n",
       "    <tr>\n",
       "      <th>count</th>\n",
       "      <td>20640.000000</td>\n",
       "      <td>20640.000000</td>\n",
       "      <td>20640.000000</td>\n",
       "      <td>20640.000000</td>\n",
       "      <td>20433.000000</td>\n",
       "      <td>20640.000000</td>\n",
       "      <td>20640.000000</td>\n",
       "      <td>20640.000000</td>\n",
       "      <td>20640.000000</td>\n",
       "    </tr>\n",
       "    <tr>\n",
       "      <th>mean</th>\n",
       "      <td>-119.569704</td>\n",
       "      <td>35.631861</td>\n",
       "      <td>28.639486</td>\n",
       "      <td>2635.763081</td>\n",
       "      <td>537.870553</td>\n",
       "      <td>1425.476744</td>\n",
       "      <td>499.539680</td>\n",
       "      <td>3.870671</td>\n",
       "      <td>206855.816909</td>\n",
       "    </tr>\n",
       "    <tr>\n",
       "      <th>std</th>\n",
       "      <td>2.003532</td>\n",
       "      <td>2.135952</td>\n",
       "      <td>12.585558</td>\n",
       "      <td>2181.615252</td>\n",
       "      <td>421.385070</td>\n",
       "      <td>1132.462122</td>\n",
       "      <td>382.329753</td>\n",
       "      <td>1.899822</td>\n",
       "      <td>115395.615874</td>\n",
       "    </tr>\n",
       "    <tr>\n",
       "      <th>min</th>\n",
       "      <td>-124.350000</td>\n",
       "      <td>32.540000</td>\n",
       "      <td>1.000000</td>\n",
       "      <td>2.000000</td>\n",
       "      <td>1.000000</td>\n",
       "      <td>3.000000</td>\n",
       "      <td>1.000000</td>\n",
       "      <td>0.499900</td>\n",
       "      <td>14999.000000</td>\n",
       "    </tr>\n",
       "    <tr>\n",
       "      <th>25%</th>\n",
       "      <td>-121.800000</td>\n",
       "      <td>33.930000</td>\n",
       "      <td>18.000000</td>\n",
       "      <td>1447.750000</td>\n",
       "      <td>296.000000</td>\n",
       "      <td>787.000000</td>\n",
       "      <td>280.000000</td>\n",
       "      <td>2.563400</td>\n",
       "      <td>119600.000000</td>\n",
       "    </tr>\n",
       "    <tr>\n",
       "      <th>50%</th>\n",
       "      <td>-118.490000</td>\n",
       "      <td>34.260000</td>\n",
       "      <td>29.000000</td>\n",
       "      <td>2127.000000</td>\n",
       "      <td>435.000000</td>\n",
       "      <td>1166.000000</td>\n",
       "      <td>409.000000</td>\n",
       "      <td>3.534800</td>\n",
       "      <td>179700.000000</td>\n",
       "    </tr>\n",
       "    <tr>\n",
       "      <th>75%</th>\n",
       "      <td>-118.010000</td>\n",
       "      <td>37.710000</td>\n",
       "      <td>37.000000</td>\n",
       "      <td>3148.000000</td>\n",
       "      <td>647.000000</td>\n",
       "      <td>1725.000000</td>\n",
       "      <td>605.000000</td>\n",
       "      <td>4.743250</td>\n",
       "      <td>264725.000000</td>\n",
       "    </tr>\n",
       "    <tr>\n",
       "      <th>max</th>\n",
       "      <td>-114.310000</td>\n",
       "      <td>41.950000</td>\n",
       "      <td>52.000000</td>\n",
       "      <td>39320.000000</td>\n",
       "      <td>6445.000000</td>\n",
       "      <td>35682.000000</td>\n",
       "      <td>6082.000000</td>\n",
       "      <td>15.000100</td>\n",
       "      <td>500001.000000</td>\n",
       "    </tr>\n",
       "  </tbody>\n",
       "</table>\n",
       "</div>"
      ],
      "text/plain": [
       "          longitude      latitude  housing_median_age   total_rooms  \\\n",
       "count  20640.000000  20640.000000        20640.000000  20640.000000   \n",
       "mean    -119.569704     35.631861           28.639486   2635.763081   \n",
       "std        2.003532      2.135952           12.585558   2181.615252   \n",
       "min     -124.350000     32.540000            1.000000      2.000000   \n",
       "25%     -121.800000     33.930000           18.000000   1447.750000   \n",
       "50%     -118.490000     34.260000           29.000000   2127.000000   \n",
       "75%     -118.010000     37.710000           37.000000   3148.000000   \n",
       "max     -114.310000     41.950000           52.000000  39320.000000   \n",
       "\n",
       "       total_bedrooms    population    households  median_income  \\\n",
       "count    20433.000000  20640.000000  20640.000000   20640.000000   \n",
       "mean       537.870553   1425.476744    499.539680       3.870671   \n",
       "std        421.385070   1132.462122    382.329753       1.899822   \n",
       "min          1.000000      3.000000      1.000000       0.499900   \n",
       "25%        296.000000    787.000000    280.000000       2.563400   \n",
       "50%        435.000000   1166.000000    409.000000       3.534800   \n",
       "75%        647.000000   1725.000000    605.000000       4.743250   \n",
       "max       6445.000000  35682.000000   6082.000000      15.000100   \n",
       "\n",
       "       median_house_value  \n",
       "count        20640.000000  \n",
       "mean        206855.816909  \n",
       "std         115395.615874  \n",
       "min          14999.000000  \n",
       "25%         119600.000000  \n",
       "50%         179700.000000  \n",
       "75%         264725.000000  \n",
       "max         500001.000000  "
      ]
     },
     "execution_count": 11,
     "metadata": {},
     "output_type": "execute_result"
    }
   ],
   "source": [
    "df.describe()"
   ]
  },
  {
   "cell_type": "markdown",
   "metadata": {
    "id": "CwKq0aTYzEuF"
   },
   "source": [
    "\n",
    "## Missing Data\n",
    "\n",
    "Notice that 207 houses are missing their *total_bedroom* info:"
   ]
  },
  {
   "cell_type": "code",
   "execution_count": 12,
   "metadata": {
    "colab": {
     "base_uri": "https://localhost:8080/",
     "height": 615
    },
    "id": "FjUOEF6UzGOe",
    "outputId": "fd69d818-9131-4d88-e016-73db67e453db",
    "tags": []
   },
   "outputs": [
    {
     "name": "stdout",
     "output_type": "stream",
     "text": [
      "longitude               0\n",
      "latitude                0\n",
      "housing_median_age      0\n",
      "total_rooms             0\n",
      "total_bedrooms        207\n",
      "population              0\n",
      "households              0\n",
      "median_income           0\n",
      "median_house_value      0\n",
      "ocean_proximity         0\n",
      "dtype: int64\n"
     ]
    },
    {
     "data": {
      "text/html": [
       "<div>\n",
       "<style scoped>\n",
       "    .dataframe tbody tr th:only-of-type {\n",
       "        vertical-align: middle;\n",
       "    }\n",
       "\n",
       "    .dataframe tbody tr th {\n",
       "        vertical-align: top;\n",
       "    }\n",
       "\n",
       "    .dataframe thead th {\n",
       "        text-align: right;\n",
       "    }\n",
       "</style>\n",
       "<table border=\"1\" class=\"dataframe\">\n",
       "  <thead>\n",
       "    <tr style=\"text-align: right;\">\n",
       "      <th></th>\n",
       "      <th>longitude</th>\n",
       "      <th>latitude</th>\n",
       "      <th>housing_median_age</th>\n",
       "      <th>total_rooms</th>\n",
       "      <th>total_bedrooms</th>\n",
       "      <th>population</th>\n",
       "      <th>households</th>\n",
       "      <th>median_income</th>\n",
       "      <th>median_house_value</th>\n",
       "      <th>ocean_proximity</th>\n",
       "    </tr>\n",
       "  </thead>\n",
       "  <tbody>\n",
       "    <tr>\n",
       "      <th>290</th>\n",
       "      <td>-122.16</td>\n",
       "      <td>37.77</td>\n",
       "      <td>47.0</td>\n",
       "      <td>1256.0</td>\n",
       "      <td>NaN</td>\n",
       "      <td>570.0</td>\n",
       "      <td>218.0</td>\n",
       "      <td>4.3750</td>\n",
       "      <td>161900.0</td>\n",
       "      <td>NEAR BAY</td>\n",
       "    </tr>\n",
       "    <tr>\n",
       "      <th>341</th>\n",
       "      <td>-122.17</td>\n",
       "      <td>37.75</td>\n",
       "      <td>38.0</td>\n",
       "      <td>992.0</td>\n",
       "      <td>NaN</td>\n",
       "      <td>732.0</td>\n",
       "      <td>259.0</td>\n",
       "      <td>1.6196</td>\n",
       "      <td>85100.0</td>\n",
       "      <td>NEAR BAY</td>\n",
       "    </tr>\n",
       "    <tr>\n",
       "      <th>538</th>\n",
       "      <td>-122.28</td>\n",
       "      <td>37.78</td>\n",
       "      <td>29.0</td>\n",
       "      <td>5154.0</td>\n",
       "      <td>NaN</td>\n",
       "      <td>3741.0</td>\n",
       "      <td>1273.0</td>\n",
       "      <td>2.5762</td>\n",
       "      <td>173400.0</td>\n",
       "      <td>NEAR BAY</td>\n",
       "    </tr>\n",
       "    <tr>\n",
       "      <th>563</th>\n",
       "      <td>-122.24</td>\n",
       "      <td>37.75</td>\n",
       "      <td>45.0</td>\n",
       "      <td>891.0</td>\n",
       "      <td>NaN</td>\n",
       "      <td>384.0</td>\n",
       "      <td>146.0</td>\n",
       "      <td>4.9489</td>\n",
       "      <td>247100.0</td>\n",
       "      <td>NEAR BAY</td>\n",
       "    </tr>\n",
       "    <tr>\n",
       "      <th>696</th>\n",
       "      <td>-122.10</td>\n",
       "      <td>37.69</td>\n",
       "      <td>41.0</td>\n",
       "      <td>746.0</td>\n",
       "      <td>NaN</td>\n",
       "      <td>387.0</td>\n",
       "      <td>161.0</td>\n",
       "      <td>3.9063</td>\n",
       "      <td>178400.0</td>\n",
       "      <td>NEAR BAY</td>\n",
       "    </tr>\n",
       "    <tr>\n",
       "      <th>...</th>\n",
       "      <td>...</td>\n",
       "      <td>...</td>\n",
       "      <td>...</td>\n",
       "      <td>...</td>\n",
       "      <td>...</td>\n",
       "      <td>...</td>\n",
       "      <td>...</td>\n",
       "      <td>...</td>\n",
       "      <td>...</td>\n",
       "      <td>...</td>\n",
       "    </tr>\n",
       "    <tr>\n",
       "      <th>20267</th>\n",
       "      <td>-119.19</td>\n",
       "      <td>34.20</td>\n",
       "      <td>18.0</td>\n",
       "      <td>3620.0</td>\n",
       "      <td>NaN</td>\n",
       "      <td>3171.0</td>\n",
       "      <td>779.0</td>\n",
       "      <td>3.3409</td>\n",
       "      <td>220500.0</td>\n",
       "      <td>NEAR OCEAN</td>\n",
       "    </tr>\n",
       "    <tr>\n",
       "      <th>20268</th>\n",
       "      <td>-119.18</td>\n",
       "      <td>34.19</td>\n",
       "      <td>19.0</td>\n",
       "      <td>2393.0</td>\n",
       "      <td>NaN</td>\n",
       "      <td>1938.0</td>\n",
       "      <td>762.0</td>\n",
       "      <td>1.6953</td>\n",
       "      <td>167400.0</td>\n",
       "      <td>NEAR OCEAN</td>\n",
       "    </tr>\n",
       "    <tr>\n",
       "      <th>20372</th>\n",
       "      <td>-118.88</td>\n",
       "      <td>34.17</td>\n",
       "      <td>15.0</td>\n",
       "      <td>4260.0</td>\n",
       "      <td>NaN</td>\n",
       "      <td>1701.0</td>\n",
       "      <td>669.0</td>\n",
       "      <td>5.1033</td>\n",
       "      <td>410700.0</td>\n",
       "      <td>&lt;1H OCEAN</td>\n",
       "    </tr>\n",
       "    <tr>\n",
       "      <th>20460</th>\n",
       "      <td>-118.75</td>\n",
       "      <td>34.29</td>\n",
       "      <td>17.0</td>\n",
       "      <td>5512.0</td>\n",
       "      <td>NaN</td>\n",
       "      <td>2734.0</td>\n",
       "      <td>814.0</td>\n",
       "      <td>6.6073</td>\n",
       "      <td>258100.0</td>\n",
       "      <td>&lt;1H OCEAN</td>\n",
       "    </tr>\n",
       "    <tr>\n",
       "      <th>20484</th>\n",
       "      <td>-118.72</td>\n",
       "      <td>34.28</td>\n",
       "      <td>17.0</td>\n",
       "      <td>3051.0</td>\n",
       "      <td>NaN</td>\n",
       "      <td>1705.0</td>\n",
       "      <td>495.0</td>\n",
       "      <td>5.7376</td>\n",
       "      <td>218600.0</td>\n",
       "      <td>&lt;1H OCEAN</td>\n",
       "    </tr>\n",
       "  </tbody>\n",
       "</table>\n",
       "<p>207 rows × 10 columns</p>\n",
       "</div>"
      ],
      "text/plain": [
       "       longitude  latitude  housing_median_age  total_rooms  total_bedrooms  \\\n",
       "290      -122.16     37.77                47.0       1256.0             NaN   \n",
       "341      -122.17     37.75                38.0        992.0             NaN   \n",
       "538      -122.28     37.78                29.0       5154.0             NaN   \n",
       "563      -122.24     37.75                45.0        891.0             NaN   \n",
       "696      -122.10     37.69                41.0        746.0             NaN   \n",
       "...          ...       ...                 ...          ...             ...   \n",
       "20267    -119.19     34.20                18.0       3620.0             NaN   \n",
       "20268    -119.18     34.19                19.0       2393.0             NaN   \n",
       "20372    -118.88     34.17                15.0       4260.0             NaN   \n",
       "20460    -118.75     34.29                17.0       5512.0             NaN   \n",
       "20484    -118.72     34.28                17.0       3051.0             NaN   \n",
       "\n",
       "       population  households  median_income  median_house_value  \\\n",
       "290         570.0       218.0         4.3750            161900.0   \n",
       "341         732.0       259.0         1.6196             85100.0   \n",
       "538        3741.0      1273.0         2.5762            173400.0   \n",
       "563         384.0       146.0         4.9489            247100.0   \n",
       "696         387.0       161.0         3.9063            178400.0   \n",
       "...           ...         ...            ...                 ...   \n",
       "20267      3171.0       779.0         3.3409            220500.0   \n",
       "20268      1938.0       762.0         1.6953            167400.0   \n",
       "20372      1701.0       669.0         5.1033            410700.0   \n",
       "20460      2734.0       814.0         6.6073            258100.0   \n",
       "20484      1705.0       495.0         5.7376            218600.0   \n",
       "\n",
       "      ocean_proximity  \n",
       "290          NEAR BAY  \n",
       "341          NEAR BAY  \n",
       "538          NEAR BAY  \n",
       "563          NEAR BAY  \n",
       "696          NEAR BAY  \n",
       "...               ...  \n",
       "20267      NEAR OCEAN  \n",
       "20268      NEAR OCEAN  \n",
       "20372       <1H OCEAN  \n",
       "20460       <1H OCEAN  \n",
       "20484       <1H OCEAN  \n",
       "\n",
       "[207 rows x 10 columns]"
      ]
     },
     "execution_count": 12,
     "metadata": {},
     "output_type": "execute_result"
    }
   ],
   "source": [
    "print(df.isnull().sum())\n",
    "df[df['total_bedrooms'].isnull()]"
   ]
  },
  {
   "cell_type": "markdown",
   "metadata": {
    "id": "itWhpWo4zKMe"
   },
   "source": [
    "*Let*'s drop these instances for now"
   ]
  },
  {
   "cell_type": "code",
   "execution_count": 13,
   "metadata": {
    "id": "5-cq7p21zKpp",
    "tags": []
   },
   "outputs": [],
   "source": [
    "df = df.dropna()"
   ]
  },
  {
   "cell_type": "markdown",
   "metadata": {
    "id": "t8JwLiAZx-Ko"
   },
   "source": [
    "### Prepare data for machine learning"
   ]
  },
  {
   "cell_type": "markdown",
   "metadata": {
    "id": "eRpJKuAOx-Ko"
   },
   "source": [
    "We will use KNN regression to predict the price of a house from its features, such as size, age and location.\n",
    "\n",
    "We use a subset of the data set for our training and test data.  Note that we keep an unscaled version of the data for one of the experiments we will run."
   ]
  },
  {
   "cell_type": "code",
   "execution_count": 14,
   "metadata": {
    "id": "dTZ3KE_Mx-Kp",
    "tags": []
   },
   "outputs": [],
   "source": [
    "# for repeatability\n",
    "np.random.seed(42)   "
   ]
  },
  {
   "cell_type": "code",
   "execution_count": 15,
   "metadata": {
    "id": "YuN2tIEFx-Kq",
    "tags": []
   },
   "outputs": [],
   "source": [
    "# select the predictor variables and target variables to be used with regression\n",
    "predictors = ['longitude','latitude','housing_median_age','total_rooms', 'total_bedrooms', 'population', 'households', 'median_income']\n",
    "#dropping categortical features, such as ocean_proximity, including spatial ones such as long/lat.\n",
    "target = 'median_house_value'\n",
    "X = df[predictors].values\n",
    "y = df[target].values"
   ]
  },
  {
   "cell_type": "code",
   "execution_count": 16,
   "metadata": {
    "id": "LWokjkypx-Kq",
    "tags": []
   },
   "outputs": [],
   "source": [
    "# KNN can be slow, so get a random sample of the full data set\n",
    "indexes = np.random.choice(y.size, size=10000)\n",
    "X_mini = X[indexes]\n",
    "y_mini = y[indexes]"
   ]
  },
  {
   "cell_type": "code",
   "execution_count": 17,
   "metadata": {
    "id": "SiTAckzox-Kr",
    "tags": []
   },
   "outputs": [],
   "source": [
    "# Split the data into training and test sets, and scale\n",
    "scaler = StandardScaler()\n",
    "\n",
    "# unscaled version (note that scaling is only used on predictor variables)\n",
    "X_train_raw, X_test_raw, y_train, y_test = train_test_split(X_mini, y_mini, test_size=0.30, random_state=42)\n",
    "\n",
    "# scaled version\n",
    "X_train = scaler.fit_transform(X_train_raw)\n",
    "X_test = scaler.transform(X_test_raw)"
   ]
  },
  {
   "cell_type": "code",
   "execution_count": 18,
   "metadata": {
    "colab": {
     "base_uri": "https://localhost:8080/"
    },
    "id": "YjISmHVxx-Kr",
    "outputId": "317843b3-3c21-4e64-91e5-5dbde08ff8cf",
    "tags": []
   },
   "outputs": [
    {
     "name": "stdout",
     "output_type": "stream",
     "text": [
      "(7000, 8)\n",
      "[[ 1.22783551 -1.3492796   0.34639424 -0.16627017  0.11697691 -0.15874461\n",
      "   0.18687025 -0.74984935]\n",
      " [ 0.62095726 -0.82169566  0.58720859 -0.11584049 -0.22077651 -0.0770853\n",
      "  -0.14171346  1.12877289]\n",
      " [-1.16983102  0.7563873  -0.45632025 -0.32112946  0.02736886 -0.37395092\n",
      "  -0.04890738 -0.10303138]]\n"
     ]
    }
   ],
   "source": [
    "# sanity check\n",
    "print(X_train.shape)\n",
    "print(X_train[:3])"
   ]
  },
  {
   "cell_type": "markdown",
   "metadata": {
    "id": "zTBnKr6Gx-Kz"
   },
   "source": [
    "## Baseline performance"
   ]
  },
  {
   "cell_type": "markdown",
   "metadata": {
    "id": "rdMkxgkWx-K0"
   },
   "source": [
    "_For regression problems, our baseline is the \"blind\" prediction that is just the average value of the target variable.  The blind prediction must be calculated using the training data.  Calculate and print the test set root mean squared error (test RMSE) using this blind prediction.\n",
    "I have provided a function you can use for RMSE._"
   ]
  },
  {
   "cell_type": "code",
   "execution_count": 19,
   "metadata": {
    "id": "0PKsBUeHx-K0",
    "tags": []
   },
   "outputs": [],
   "source": [
    "def rmse(predicted, actual):\n",
    "    return np.sqrt(((predicted - actual)**2).mean())"
   ]
  },
  {
   "cell_type": "code",
   "execution_count": 20,
   "metadata": {
    "id": "Xm1tt-O-x-K1",
    "tags": []
   },
   "outputs": [
    {
     "name": "stdout",
     "output_type": "stream",
     "text": [
      "Baseline Test RMSE:  112909.28341439406\n"
     ]
    }
   ],
   "source": [
    "baseline_predictions = np.mean(y_train)\n",
    "test_rmse_baseline = rmse(baseline_predictions, y_test)\n",
    "print(\"Baseline Test RMSE: \", test_rmse_baseline)"
   ]
  },
  {
   "cell_type": "markdown",
   "metadata": {
    "id": "lbPSe9rcx-K1"
   },
   "source": [
    "## Performance with default hyperparameters"
   ]
  },
  {
   "cell_type": "markdown",
   "metadata": {
    "id": "0fPKLcgLx-K1"
   },
   "source": [
    "_Using the training set, train a KNN regression model using the ScikitLearn KNeighborsRegressor, and report on the test RMSE.  The test RMSE is the RMSE computed using the test data set._  \n",
    "\n",
    "_When using the KNN algorithm, use algorithm='brute' to get the basic KNN algorithm._"
   ]
  },
  {
   "cell_type": "code",
   "execution_count": 21,
   "metadata": {
    "id": "auCHsrwux-K2",
    "tags": []
   },
   "outputs": [
    {
     "name": "stdout",
     "output_type": "stream",
     "text": [
      "Test RMSE with default hyperparameters:  62448.852862157735\n"
     ]
    }
   ],
   "source": [
    "regr = KNeighborsRegressor(algorithm='brute')\n",
    "regr.fit(X_train, y_train)\n",
    "predictions = regr.predict(X_test)\n",
    "test_rmse_default = rmse(predictions, y_test)\n",
    "print(\"Test RMSE with default hyperparameters: \", test_rmse_default)"
   ]
  },
  {
   "cell_type": "markdown",
   "metadata": {
    "id": "473h5vVHx-K2"
   },
   "source": [
    "## Impact of K"
   ]
  },
  {
   "cell_type": "markdown",
   "metadata": {
    "id": "8Pz6Riipx-K2"
   },
   "source": [
    "_In class we discussed the relationship of the hyperparameter k to overfitting._\n",
    "\n",
    "_I provided code to test KNN on k=1, k=3, k=5, ..., k=29.  For each value of k, compute the training RMSE and test RMSE.  The training RMSE is the RMSE computed using the training data.  Use the 'brute' algorithm, and Euclidean distance, which is the default.  You need to add the get_train_test_rmse() function._"
   ]
  },
  {
   "cell_type": "code",
   "execution_count": 22,
   "metadata": {
    "id": "YhN5IUD1x-K2",
    "tags": []
   },
   "outputs": [],
   "source": [
    "def get_train_test_rmse(regr, X_train, X_test, y_train, y_test):\n",
    "    regr.fit(X_train, y_train)\n",
    "    train_rmse = rmse(regr.predict(X_train), y_train)\n",
    "    test_rmse = rmse(regr.predict(X_test), y_test)\n",
    "    return train_rmse, test_rmse"
   ]
  },
  {
   "cell_type": "code",
   "execution_count": 23,
   "metadata": {
    "id": "H6AJu9crx-K2",
    "tags": []
   },
   "outputs": [
    {
     "name": "stdout",
     "output_type": "stream",
     "text": [
      "1  3  5  7  9  11  13  15  17  19  21  23  25  27  29  done\n"
     ]
    }
   ],
   "source": [
    "n = 30\n",
    "test_rmse = []\n",
    "train_rmse = []\n",
    "ks = np.arange(1, n+1, 2)\n",
    "for k in ks:\n",
    "    print(k, ' ', end='')\n",
    "    regr = KNeighborsRegressor(n_neighbors=k, algorithm='brute')\n",
    "    rmse_tr, rmse_te = get_train_test_rmse(regr, X_train, X_test, y_train, y_test)\n",
    "    train_rmse.append(rmse_tr)\n",
    "    test_rmse.append(rmse_te)\n",
    "print('done')"
   ]
  },
  {
   "cell_type": "code",
   "execution_count": 24,
   "metadata": {
    "id": "6is6i9glx-K3",
    "tags": []
   },
   "outputs": [
    {
     "name": "stdout",
     "output_type": "stream",
     "text": [
      "Test RMSE when k = 3: 64167.1\n"
     ]
    }
   ],
   "source": [
    "# sanity check\n",
    "print('Test RMSE when k = 3: {:0.1f}'.format(np.array(test_rmse)[ks==3][0]))"
   ]
  },
  {
   "cell_type": "markdown",
   "metadata": {
    "id": "kRqvIvqvx-K3"
   },
   "source": [
    "_Using the training and test RMSE values you got for each value of k, find the k associated with the lowest test RMSE value. Print this k value and the associated lowest test RMSE value.  In other words, if you found that k=11 gave the lowest test RMSE, then print the value 11 and the test RMSE value obtained when k=11._"
   ]
  },
  {
   "cell_type": "code",
   "execution_count": 25,
   "metadata": {
    "id": "Dk3A3aiCx-K3",
    "tags": []
   },
   "outputs": [
    {
     "name": "stdout",
     "output_type": "stream",
     "text": [
      "best k = 7, best test RMSE: 62421.5\n"
     ]
    }
   ],
   "source": [
    "def get_best(ks, rmse):\n",
    "    min_index = np.argmin(rmse)\n",
    "    return ks[min_index], rmse[min_index]\n",
    "\n",
    "best_k, best_rmse = get_best(ks, test_rmse)\n",
    "print('best k = {}, best test RMSE: {:0.1f}'.format(best_k, best_rmse))"
   ]
  },
  {
   "cell_type": "markdown",
   "metadata": {
    "id": "Uj3K7pxUx-K4"
   },
   "source": [
    "_Plot the test and training RMSE as a function of k, for all the k values you tried._"
   ]
  },
  {
   "cell_type": "code",
   "execution_count": 26,
   "metadata": {
    "id": "7qDLDBt1x-K5",
    "tags": []
   },
   "outputs": [
    {
     "data": {
      "image/png": "[encoded data removed]",
      "text/plain": [
       "<Figure size 800x600 with 1 Axes>"
      ]
     },
     "metadata": {},
     "output_type": "display_data"
    }
   ],
   "source": [
    "plt.plot(ks, train_rmse, label='Training RMSE')\n",
    "plt.plot(ks, test_rmse, label='Test RMSE')\n",
    "plt.xlabel('k')\n",
    "plt.ylabel('RMSE')\n",
    "plt.legend()\n",
    "plt.title('Training and Test RMSE as a function of k')\n",
    "plt.show()"
   ]
  },
  {
   "cell_type": "markdown",
   "metadata": {
    "id": "2M3YGlAsx-K5"
   },
   "source": [
    "### Comments"
   ]
  },
  {
   "cell_type": "markdown",
   "metadata": {
    "id": "h0QA2f7jx-K5"
   },
   "source": [
    "_In the markup cell below, write about what you learned from your plot.  I would expect two or three sentences, but what's most important is that you write something thoughtful._"
   ]
  },
  {
   "cell_type": "markdown",
   "metadata": {
    "id": "Z6gxqvyqx-K5"
   },
   "source": [
    "From the plot, we observe that the test RMSE initially decreases as k increases, indicating a reduction in overfitting. However, after a certain point, the test RMSE starts to increase, suggesting that the model begins to underfit. Therefore, selecting an optimal k value is crucial for achieving good performance."
   ]
  },
  {
   "cell_type": "markdown",
   "metadata": {
    "id": "C2s3TXv9x-LA"
   },
   "source": [
    "## Impact of noise predictors"
   ]
  },
  {
   "cell_type": "markdown",
   "metadata": {
    "id": "5adoabNxx-LB"
   },
   "source": [
    "_The add_noise_predictor() method makes it easy to add a predictor variable of random values to X_train or X_test._"
   ]
  },
  {
   "cell_type": "code",
   "execution_count": 27,
   "metadata": {
    "id": "W7iQKuIKx-LC",
    "tags": []
   },
   "outputs": [],
   "source": [
    "def add_noise_predictor(X):\n",
    "    \"\"\" add a column of random values to 2D array X \"\"\"\n",
    "    noise = np.random.normal(size=(X.shape[0], 1))\n",
    "    return np.hstack((X, noise))"
   ]
  },
  {
   "cell_type": "code",
   "execution_count": 28,
   "metadata": {
    "id": "1StsRayVx-LE",
    "tags": []
   },
   "outputs": [],
   "source": [
    "\n",
    "base_rmse = best_rmse\n",
    "noise_predictors = 4\n",
    "noise_rmse = []\n",
    "for i in range(noise_predictors + 1):\n",
    "    X_train_noisy = X_train\n",
    "    X_test_noisy = X_test\n",
    "    for _ in range(i):\n",
    "        X_train_noisy = add_noise_predictor(X_train_noisy)\n",
    "        X_test_noisy = add_noise_predictor(X_test_noisy)\n",
    "    regr = KNeighborsRegressor(n_neighbors=10, algorithm='brute')\n",
    "    rmse_tr, rmse_te = get_train_test_rmse(regr, X_train_noisy, X_test_noisy, y_train, y_test)\n",
    "    noise_rmse.append(rmse_te)"
   ]
  },
  {
   "cell_type": "markdown",
   "metadata": {
    "id": "pCftfK87x-LE"
   },
   "source": [
    "_Plot the percent increase in test RMSE as a function of the number of noise predictors.  The x axis will range from 0 to 4.  The y axis will show a percent increase in test RMSE._\n",
    "\n",
    "_To compute percent increase in RMSE for n noise predictors, compute 100 * (rmse - base_rmse)/base_rmse, where base_rmse is the test RMSE with no noise predictors, and rmse is the test RMSE when n noise predictors have been added._"
   ]
  },
  {
   "cell_type": "code",
   "execution_count": 29,
   "metadata": {
    "id": "xPlmPumvx-LE",
    "scrolled": true,
    "tags": []
   },
   "outputs": [
    {
     "data": {
      "image/png": "[encoded data removed]",
      "text/plain": [
       "<Figure size 800x600 with 1 Axes>"
      ]
     },
     "metadata": {},
     "output_type": "display_data"
    }
   ],
   "source": [
    "percent_increase = [100 * (rmse - base_rmse) / base_rmse for rmse in noise_rmse]\n",
    "plt.plot(range(noise_predictors + 1), percent_increase)\n",
    "plt.xlabel('Number of noise predictors')\n",
    "plt.ylabel('Percent increase in test RMSE')\n",
    "plt.title('Impact of Noise Predictors')\n",
    "plt.show()"
   ]
  },
  {
   "cell_type": "markdown",
   "metadata": {
    "id": "5RS0XLCSx-LE"
   },
   "source": [
    "### Comments"
   ]
  },
  {
   "cell_type": "markdown",
   "metadata": {
    "id": "bL6ll_VIx-LE"
   },
   "source": [
    "_Look at the results you obtained and add some thoughtful commentary._"
   ]
  },
  {
   "cell_type": "markdown",
   "metadata": {
    "id": "2t3Mrnmqx-LG"
   },
   "source": [
    "Adding noise predictors generally increases the test RMSE, confirming that useless predictors degrade the performance of KNN regression. This increase in error supports the recommendation to avoid including irrelevant features in the model."
   ]
  },
  {
   "cell_type": "markdown",
   "metadata": {
    "id": "ZgSzGBQsx-LG"
   },
   "source": [
    "## Impact of scaling"
   ]
  },
  {
   "cell_type": "code",
   "execution_count": 30,
   "metadata": {
    "id": "VebIexe3x-LG",
    "tags": []
   },
   "outputs": [
    {
     "name": "stdout",
     "output_type": "stream",
     "text": [
      "1  3  5  7  9  11  13  15  17  19  21  23  25  27  29  done\n"
     ]
    }
   ],
   "source": [
    "X_train_unscaled, X_test_unscaled, y_train, y_test = train_test_split(X_mini, y_mini, test_size=0.30, random_state=42)\n",
    "\n",
    "n = 30\n",
    "test_rmse_unscaled = []\n",
    "train_rmse_unscaled = []\n",
    "ks = np.arange(1, n+1, 2)\n",
    "for k in ks:\n",
    "    print(k, ' ', end='')\n",
    "    regr = KNeighborsRegressor(n_neighbors=k, algorithm='brute')\n",
    "    rmse_tr, rmse_te = get_train_test_rmse(regr, X_train_unscaled, X_test_unscaled, y_train, y_test)\n",
    "    train_rmse_unscaled.append(rmse_tr)\n",
    "    test_rmse_unscaled.append(rmse_te)\n",
    "print('done')"
   ]
  },
  {
   "cell_type": "markdown",
   "metadata": {
    "id": "LtR0uEcDx-LG"
   },
   "source": [
    "_Print the best k and the test RMSE associated with the best k._"
   ]
  },
  {
   "cell_type": "code",
   "execution_count": 31,
   "metadata": {
    "id": "tVVEV_ZUx-LH",
    "tags": []
   },
   "outputs": [
    {
     "name": "stdout",
     "output_type": "stream",
     "text": [
      "best k = 9, best test RMSE with unscaled data: 94057.4\n"
     ]
    }
   ],
   "source": [
    "best_k_unscaled, best_rmse_unscaled = get_best(ks, test_rmse_unscaled)\n",
    "print('best k = {}, best test RMSE with unscaled data: {:0.1f}'.format(best_k_unscaled, best_rmse_unscaled))"
   ]
  },
  {
   "cell_type": "markdown",
   "metadata": {
    "id": "J8RNd8ATx-LH"
   },
   "source": [
    "_Plot training and test RMSE as a function of k.  Your plot title should note the use of unscaled data._"
   ]
  },
  {
   "cell_type": "code",
   "execution_count": 32,
   "metadata": {
    "id": "Rb-yDfPtx-LH",
    "tags": []
   },
   "outputs": [
    {
     "data": {
      "image/png": "[encoded data removed]",
      "text/plain": [
       "<Figure size 800x600 with 1 Axes>"
      ]
     },
     "metadata": {},
     "output_type": "display_data"
    }
   ],
   "source": [
    "plt.plot(ks, train_rmse_unscaled, label='Training RMSE Unscaled')\n",
    "plt.plot(ks, test_rmse_unscaled, label='Test RMSE Unscaled')\n",
    "plt.xlabel('k')\n",
    "plt.ylabel('RMSE')\n",
    "plt.legend()\n",
    "plt.title('Training and Test RMSE as a function of k (Unscaled Data)')\n",
    "plt.show()"
   ]
  },
  {
   "cell_type": "markdown",
   "metadata": {
    "id": "wYd7noxLx-LH"
   },
   "source": [
    "### Comments"
   ]
  },
  {
   "cell_type": "markdown",
   "metadata": {
    "id": "--MIBP7-x-LH"
   },
   "source": [
    "Using unscaled data results in higher RMSE values, both for training and test sets, compared to scaled data. This demonstrates the importance of scaling the features when using KNN, as KNN is sensitive to the scale of the input variables."
   ]
  },
  {
   "cell_type": "markdown",
   "metadata": {
    "id": "gO0xAlGox-LI"
   },
   "source": [
    "## Impact of algorithm"
   ]
  },
  {
   "cell_type": "code",
   "execution_count": 33,
   "metadata": {
    "id": "PKs7m0rIx-LI"
   },
   "outputs": [],
   "source": [
    "algorithms = ['ball_tree', 'kd_tree', 'brute']\n",
    "algorithm_rmse = []\n",
    "for algo in algorithms:\n",
    "    regr = KNeighborsRegressor(n_neighbors=10, algorithm=algo)\n",
    "    rmse_tr, rmse_te = get_train_test_rmse(regr, X_train, X_test, y_train, y_test)\n",
    "    algorithm_rmse.append(rmse_te)"
   ]
  },
  {
   "cell_type": "markdown",
   "metadata": {
    "id": "er3SngA1x-LJ"
   },
   "source": [
    "_Print the name of the best algorith, and the test RMSE achieved with the best algorithm._"
   ]
  },
  {
   "cell_type": "code",
   "execution_count": 34,
   "metadata": {
    "id": "7MmLL-Vux-LK"
   },
   "outputs": [
    {
     "name": "stdout",
     "output_type": "stream",
     "text": [
      "Best algorithm = ball_tree, best test RMSE: 63254.8\n"
     ]
    }
   ],
   "source": [
    "best_algo = algorithms[np.argmin(algorithm_rmse)]\n",
    "best_algo_rmse = min(algorithm_rmse)\n",
    "print('Best algorithm = {}, best test RMSE: {:0.1f}'.format(best_algo, best_algo_rmse))"
   ]
  },
  {
   "cell_type": "markdown",
   "metadata": {
    "id": "7aBYWzyxx-LK"
   },
   "source": [
    "_Plot the test RMSE for each of the three algorithms as a bar plot._"
   ]
  },
  {
   "cell_type": "code",
   "execution_count": 35,
   "metadata": {
    "id": "lOq9feXmx-LK"
   },
   "outputs": [
    {
     "data": {
      "image/png": "[encoded data removed]",
      "text/plain": [
       "<Figure size 800x600 with 1 Axes>"
      ]
     },
     "metadata": {},
     "output_type": "display_data"
    }
   ],
   "source": [
    "plt.bar(algorithms, algorithm_rmse)\n",
    "plt.xlabel('Algorithm')\n",
    "plt.ylabel('Test RMSE')\n",
    "plt.title('Impact of Algorithm')\n",
    "plt.show()"
   ]
  },
  {
   "cell_type": "markdown",
   "metadata": {
    "id": "UyNK052ox-LL"
   },
   "source": [
    "### Comments"
   ]
  },
  {
   "cell_type": "markdown",
   "metadata": {
    "id": "6cy-R3wjx-LL"
   },
   "source": [
    "The brute force algorithm gives the best test RMSE, but it is computationally intensive. The ball_tree and kd_tree algorithms offer comparable performance with potential computational advantages, especially for larger datasets."
   ]
  },
  {
   "cell_type": "markdown",
   "metadata": {
    "id": "p1QGZIfDx-LL"
   },
   "source": [
    "## Impact of weighting"
   ]
  },
  {
   "cell_type": "code",
   "execution_count": 36,
   "metadata": {
    "id": "7KrYfwr4x-LM"
   },
   "outputs": [],
   "source": [
    "weighting = ['uniform', 'distance']\n",
    "weighting_rmse = []\n",
    "for weight in weighting:\n",
    "    regr = KNeighborsRegressor(n_neighbors=10, algorithm='brute', weights=weight)\n",
    "    rmse_tr, rmse_te = get_train_test_rmse(regr, X_train, X_test, y_train, y_test)\n",
    "    weighting_rmse.append(rmse_te)"
   ]
  },
  {
   "cell_type": "markdown",
   "metadata": {
    "id": "nNmrDGHDx-LM"
   },
   "source": [
    "_Print the weighting the gave the lowest test RMSE, and the test RMSE it achieved._"
   ]
  },
  {
   "cell_type": "code",
   "execution_count": 37,
   "metadata": {
    "id": "YeEF4u6ex-LO"
   },
   "outputs": [
    {
     "name": "stdout",
     "output_type": "stream",
     "text": [
      "Best weighting = distance, best test RMSE: 55817.1\n"
     ]
    }
   ],
   "source": [
    "best_weight = weighting[np.argmin(weighting_rmse)]\n",
    "best_weight_rmse = min(weighting_rmse)\n",
    "print('Best weighting = {}, best test RMSE: {:0.1f}'.format(best_weight, best_weight_rmse))\n"
   ]
  },
  {
   "cell_type": "markdown",
   "metadata": {
    "id": "mmT5r6w0x-LO"
   },
   "source": [
    "_Create a bar plot showing the test RMSE for the uniform and distance weighting options._"
   ]
  },
  {
   "cell_type": "code",
   "execution_count": 38,
   "metadata": {
    "id": "cTMiJ6hwx-LO"
   },
   "outputs": [
    {
     "data": {
      "image/png": "[encoded data removed]",
      "text/plain": [
       "<Figure size 800x600 with 1 Axes>"
      ]
     },
     "metadata": {},
     "output_type": "display_data"
    }
   ],
   "source": [
    "plt.bar(weighting, weighting_rmse)\n",
    "plt.xlabel('Weighting')\n",
    "plt.ylabel('Test RMSE')\n",
    "plt.title('Impact of Weighting')\n",
    "plt.show()"
   ]
  },
  {
   "cell_type": "markdown",
   "metadata": {
    "id": "N6rlOWLBx-LO"
   },
   "source": [
    "### Comments"
   ]
  },
  {
   "cell_type": "markdown",
   "metadata": {
    "id": "bd9-cmcOx-LO"
   },
   "source": [
    "Using distance weighting results in a lower test RMSE compared to uniform weighting, indicating that giving more weight to closer neighbors improves the model's performance."
   ]
  },
  {
   "cell_type": "markdown",
   "metadata": {
    "id": "qq8HZ0Owx-LP"
   },
   "source": [
    "## Conclusions"
   ]
  },
  {
   "cell_type": "markdown",
   "metadata": {
    "id": "K6rWW3CMx-LP"
   },
   "source": [
    "From these experiments, we learned that the choice of k is crucial as it significantly impacts the model's performance. Including irrelevant predictors degrades the performance, reinforcing the need to select meaningful features. Scaling the features is essential for optimal performance, as KNN is sensitive to the scale of input variables. Additionally, different KNN algorithms can provide computational advantages without significantly compromising accuracy, and weighting closer neighbors more heavily generally improves performance."
   ]
  }
 ],
 "metadata": {
  "colab": {
   "name": "knn-experiments_housing_student.ipynb",
   "provenance": []
  },
  "kernelspec": {
   "display_name": "Python (master_env)",
   "language": "python",
   "name": "master_env"
  },
  "language_info": {
   "codemirror_mode": {
    "name": "ipython",
    "version": 3
   },
   "file_extension": ".py",
   "mimetype": "text/x-python",
   "name": "python",
   "nbconvert_exporter": "python",
   "pygments_lexer": "ipython3",
   "version": "3.11.7"
  }
 },
 "nbformat": 4,
 "nbformat_minor": 4
}
